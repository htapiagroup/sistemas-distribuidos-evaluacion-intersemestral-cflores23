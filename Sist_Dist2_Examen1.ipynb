{
  "nbformat": 4,
  "nbformat_minor": 0,
  "metadata": {
    "colab": {
      "name": "Sist_Dist2_Examen1.ipynb",
      "version": "0.3.2",
      "provenance": [],
      "collapsed_sections": [],
      "include_colab_link": true
    },
    "kernelspec": {
      "name": "python3",
      "display_name": "Python 3"
    }
  },
  "cells": [
    {
      "cell_type": "markdown",
      "metadata": {
        "id": "view-in-github",
        "colab_type": "text"
      },
      "source": [
        "<a href=\"https://colab.research.google.com/github/htapiagroup/sistemas-distribuidos-evaluacion-intersemestral-cflores23/blob/master/Sist_Dist2_Examen1.ipynb\" target=\"_parent\"><img src=\"https://colab.research.google.com/assets/colab-badge.svg\" alt=\"Open In Colab\"/></a>"
      ]
    },
    {
      "cell_type": "markdown",
      "metadata": {
        "id": "VZbDYq3cgnmg",
        "colab_type": "text"
      },
      "source": [
        "#Primer examen Parcial\n",
        "\n",
        "Alumno: Camilo Flores Rodríguez\n",
        "\n",
        "Trabajé solo"
      ]
    },
    {
      "cell_type": "markdown",
      "metadata": {
        "id": "sHv0Rh1mgxBA",
        "colab_type": "text"
      },
      "source": [
        "#Importar datos\n",
        "      1. Adquirir datos\n",
        "      Para adquirir datos descargo con la instrucción del S.O. !wget\n",
        "      \n",
        "      He utilizado mi Google drive por lo que debo motar la unidad"
      ]
    },
    {
      "cell_type": "code",
      "metadata": {
        "id": "vx7OsvfrgjWq",
        "colab_type": "code",
        "colab": {}
      },
      "source": [
        "!wget https://archive.org/download/nycTaxiTripData2013/trip_data.7z"
      ],
      "execution_count": 0,
      "outputs": []
    },
    {
      "cell_type": "code",
      "metadata": {
        "id": "GRHCBJLpI9tn",
        "colab_type": "code",
        "colab": {
          "base_uri": "https://localhost:8080/",
          "height": 34
        },
        "outputId": "fb4c6be7-a15a-4c6c-8e5e-154f0717f8f0"
      },
      "source": [
        "from google.colab import drive\n",
        "drive.mount('/content/gdrive')\n"
      ],
      "execution_count": 2,
      "outputs": [
        {
          "output_type": "stream",
          "text": [
            "Drive already mounted at /content/gdrive; to attempt to forcibly remount, call drive.mount(\"/content/gdrive\", force_remount=True).\n"
          ],
          "name": "stdout"
        }
      ]
    },
    {
      "cell_type": "markdown",
      "metadata": {
        "id": "Qw_DthHlhSH7",
        "colab_type": "text"
      },
      "source": [
        "Observo donde me encuentro ubicado:"
      ]
    },
    {
      "cell_type": "code",
      "metadata": {
        "id": "3qFsPIfrJMoR",
        "colab_type": "code",
        "colab": {
          "base_uri": "https://localhost:8080/",
          "height": 34
        },
        "outputId": "d34d1dda-d448-46e8-fafb-012e96297193"
      },
      "source": [
        "ls"
      ],
      "execution_count": 3,
      "outputs": [
        {
          "output_type": "stream",
          "text": [
            "\u001b[0m\u001b[01;34mgdrive\u001b[0m/  \u001b[01;34msample_data\u001b[0m/\n"
          ],
          "name": "stdout"
        }
      ]
    },
    {
      "cell_type": "code",
      "metadata": {
        "id": "GtefMhqnduJx",
        "colab_type": "code",
        "colab": {
          "base_uri": "https://localhost:8080/",
          "height": 34
        },
        "outputId": "5b7b45a0-d662-463c-b0c1-1efa37c26b00"
      },
      "source": [
        "ls\n"
      ],
      "execution_count": 3,
      "outputs": [
        {
          "output_type": "stream",
          "text": [
            "\u001b[0m\u001b[01;34mgdrive\u001b[0m/  \u001b[01;34msample_data\u001b[0m/\n"
          ],
          "name": "stdout"
        }
      ]
    },
    {
      "cell_type": "markdown",
      "metadata": {
        "id": "l27O5CeQh1EW",
        "colab_type": "text"
      },
      "source": [
        "Puedo observar que sí se descargó en mi unidad drive los archivos que necesito para el ejercicio.\n",
        "\n",
        "Como ya he montado mi unidad de Google drive me cambio a la carpeta Colab Notebooks"
      ]
    },
    {
      "cell_type": "code",
      "metadata": {
        "id": "2-rdFCuyeATc",
        "colab_type": "code",
        "colab": {
          "base_uri": "https://localhost:8080/",
          "height": 34
        },
        "outputId": "b027122d-db7e-4fc8-ea53-297bd5ef406e"
      },
      "source": [
        "cd gdrive/My\\ Drive/'Colab Notebooks'"
      ],
      "execution_count": 4,
      "outputs": [
        {
          "output_type": "stream",
          "text": [
            "/content/gdrive/My Drive/Colab Notebooks\n"
          ],
          "name": "stdout"
        }
      ]
    },
    {
      "cell_type": "code",
      "metadata": {
        "id": "SVzkhfhPhg4X",
        "colab_type": "code",
        "colab": {}
      },
      "source": [
        "Para poder responder la pregunta 3 necesito utilizar la liberría Pandas por lo que la imoporto de una vez"
      ],
      "execution_count": 0,
      "outputs": []
    },
    {
      "cell_type": "code",
      "metadata": {
        "id": "TMM68XKyeML3",
        "colab_type": "code",
        "colab": {}
      },
      "source": [
        "import pandas as pd, time"
      ],
      "execution_count": 0,
      "outputs": []
    },
    {
      "cell_type": "markdown",
      "metadata": {
        "id": "X_DZaLoriFRt",
        "colab_type": "text"
      },
      "source": [
        "3.  Una vez descargado el archivo pueden descomprimirlo usando la siguiente instruccion"
      ]
    },
    {
      "cell_type": "markdown",
      "metadata": {
        "id": "aZ0cBWk9huap",
        "colab_type": "text"
      },
      "source": [
        "Continúo con descomprimir un archivo"
      ]
    },
    {
      "cell_type": "code",
      "metadata": {
        "id": "WyFUA9e-eeVB",
        "colab_type": "code",
        "colab": {
          "base_uri": "https://localhost:8080/",
          "height": 561
        },
        "outputId": "82d2c3a4-7049-4301-fe10-88c6d7f7eef8"
      },
      "source": [
        "!7z e trip_data.7z -o/content/gdrive/My\\ Drive/Colab\\ Notebooks/ExamData trip_data_1.csv"
      ],
      "execution_count": 5,
      "outputs": [
        {
          "output_type": "stream",
          "text": [
            "\n",
            "7-Zip [64] 16.02 : Copyright (c) 1999-2016 Igor Pavlov : 2016-05-21\n",
            "p7zip Version 16.02 (locale=en_US.UTF-8,Utf16=on,HugeFiles=on,64 bits,2 CPUs Intel(R) Xeon(R) CPU @ 2.30GHz (306F0),ASM,AES-NI)\n",
            "\n",
            "Scanning the drive for archives:\n",
            "  0M Scan\b\b\b\b\b\b\b\b\b         \b\b\b\b\b\b\b\b\b1 file, 4102781969 bytes (3913 MiB)\n",
            "\n",
            "Extracting archive: trip_data.7z\n",
            "--\n",
            "Path = trip_data.7z\n",
            "Type = 7z\n",
            "Physical Size = 4102781969\n",
            "Headers Size = 433\n",
            "Method = LZMA:24\n",
            "Solid = -\n",
            "Blocks = 12\n",
            "\n",
            "  0%\b\b\b\b    \b\b\b\b\n",
            "Would you like to replace the existing file:\n",
            "  Path:     /content/gdrive/My Drive/Colab Notebooks/ExamData/trip_data_1.csv\n",
            "  Size:     2459600863 bytes (2346 MiB)\n",
            "  Modified: 2014-05-12 22:02:53\n",
            "with the file from archive:\n",
            "  Path:     trip_data_1.csv\n",
            "  Size:     2459600863 bytes (2346 MiB)\n",
            "  Modified: 2014-05-12 22:02:53\n",
            "? (Y)es / (N)o / (A)lways / (S)kip all / A(u)to rename all / (Q)uit? Y\n",
            "\n",
            "  0% - trip_data_1.csv\b\b\b\b\b\b\b\b\b\b\b\b\b\b\b\b\b\b\b\b\b\b                      \b\b\b\b\b\b\b\b\b\b\b\b\b\b\b\b\b\b\b\b\b\b  1% - trip_data_1.csv\b\b\b\b\b\b\b\b\b\b\b\b\b\b\b\b\b\b\b\b\b\b                      \b\b\b\b\b\b\b\b\b\b\b\b\b\b\b\b\b\b\b\b\b\b  2% - trip_data_1.csv\b\b\b\b\b\b\b\b\b\b\b\b\b\b\b\b\b\b\b\b\b\b                      \b\b\b\b\b\b\b\b\b\b\b\b\b\b\b\b\b\b\b\b\b\b  3% - trip_data_1.csv\b\b\b\b\b\b\b\b\b\b\b\b\b\b\b\b\b\b\b\b\b\b                      \b\b\b\b\b\b\b\b\b\b\b\b\b\b\b\b\b\b\b\b\b\b  4% - trip_data_1.csv\b\b\b\b\b\b\b\b\b\b\b\b\b\b\b\b\b\b\b\b\b\b                      \b\b\b\b\b\b\b\b\b\b\b\b\b\b\b\b\b\b\b\b\b\b  5% - trip_data_1.csv\b\b\b\b\b\b\b\b\b\b\b\b\b\b\b\b\b\b\b\b\b\b                      \b\b\b\b\b\b\b\b\b\b\b\b\b\b\b\b\b\b\b\b\b\b  6% - trip_data_1.csv\b\b\b\b\b\b\b\b\b\b\b\b\b\b\b\b\b\b\b\b\b\b                      \b\b\b\b\b\b\b\b\b\b\b\b\b\b\b\b\b\b\b\b\b\b  7% - trip_data_1.csv\b\b\b\b\b\b\b\b\b\b\b\b\b\b\b\b\b\b\b\b\b\b                      \b\b\b\b\b\b\b\b\b\b\b\b\b\b\b\b\b\b\b\b\b\b  8% - trip_data_1.csv\b\b\b\b\b\b\b\b\b\b\b\b\b\b\b\b\b\b\b\b\b\b                      \b\b\b\b\b\b\b\b\b\b\b\b\b\b\b\b\b\b\b\b\b\b  9% - trip_data_1.csv\b\b\b\b\b\b\b\b\b\b\b\b\b\b\b\b\b\b\b\b\b\b                      \b\b\b\b\b\b\b\b\b\b\b\b\b\b\b\b\b\b\b\b\b\b 10% - trip_data_1.csv\b\b\b\b\b\b\b\b\b\b\b\b\b\b\b\b\b\b\b\b\b\b                      \b\b\b\b\b\b\b\b\b\b\b\b\b\b\b\b\b\b\b\b\b\b 11% - trip_data_1.csv\b\b\b\b\b\b\b\b\b\b\b\b\b\b\b\b\b\b\b\b\b\b                      \b\b\b\b\b\b\b\b\b\b\b\b\b\b\b\b\b\b\b\b\b\b 12% - trip_data_1.csv\b\b\b\b\b\b\b\b\b\b\b\b\b\b\b\b\b\b\b\b\b\b                      \b\b\b\b\b\b\b\b\b\b\b\b\b\b\b\b\b\b\b\b\b\b 13% - trip_data_1.csv\b\b\b\b\b\b\b\b\b\b\b\b\b\b\b\b\b\b\b\b\b\b                      \b\b\b\b\b\b\b\b\b\b\b\b\b\b\b\b\b\b\b\b\b\b 14% - trip_data_1.csv\b\b\b\b\b\b\b\b\b\b\b\b\b\b\b\b\b\b\b\b\b\b                      \b\b\b\b\b\b\b\b\b\b\b\b\b\b\b\b\b\b\b\b\b\b 15% - trip_data_1.csv\b\b\b\b\b\b\b\b\b\b\b\b\b\b\b\b\b\b\b\b\b\b                      \b\b\b\b\b\b\b\b\b\b\b\b\b\b\b\b\b\b\b\b\b\b 16% - trip_data_1.csv\b\b\b\b\b\b\b\b\b\b\b\b\b\b\b\b\b\b\b\b\b\b                      \b\b\b\b\b\b\b\b\b\b\b\b\b\b\b\b\b\b\b\b\b\b 17% - trip_data_1.csv\b\b\b\b\b\b\b\b\b\b\b\b\b\b\b\b\b\b\b\b\b\b                      \b\b\b\b\b\b\b\b\b\b\b\b\b\b\b\b\b\b\b\b\b\b 18% - trip_data_1.csv\b\b\b\b\b\b\b\b\b\b\b\b\b\b\b\b\b\b\b\b\b\b                      \b\b\b\b\b\b\b\b\b\b\b\b\b\b\b\b\b\b\b\b\b\b 19% - trip_data_1.csv\b\b\b\b\b\b\b\b\b\b\b\b\b\b\b\b\b\b\b\b\b\b                      \b\b\b\b\b\b\b\b\b\b\b\b\b\b\b\b\b\b\b\b\b\b 20% - trip_data_1.csv\b\b\b\b\b\b\b\b\b\b\b\b\b\b\b\b\b\b\b\b\b\b                      \b\b\b\b\b\b\b\b\b\b\b\b\b\b\b\b\b\b\b\b\b\b 21% - trip_data_1.csv\b\b\b\b\b\b\b\b\b\b\b\b\b\b\b\b\b\b\b\b\b\b                      \b\b\b\b\b\b\b\b\b\b\b\b\b\b\b\b\b\b\b\b\b\b 22% - trip_data_1.csv\b\b\b\b\b\b\b\b\b\b\b\b\b\b\b\b\b\b\b\b\b\b                      \b\b\b\b\b\b\b\b\b\b\b\b\b\b\b\b\b\b\b\b\b\b 23% - trip_data_1.csv\b\b\b\b\b\b\b\b\b\b\b\b\b\b\b\b\b\b\b\b\b\b                      \b\b\b\b\b\b\b\b\b\b\b\b\b\b\b\b\b\b\b\b\b\b 24% - trip_data_1.csv\b\b\b\b\b\b\b\b\b\b\b\b\b\b\b\b\b\b\b\b\b\b                      \b\b\b\b\b\b\b\b\b\b\b\b\b\b\b\b\b\b\b\b\b\b 25% - trip_data_1.csv\b\b\b\b\b\b\b\b\b\b\b\b\b\b\b\b\b\b\b\b\b\b                      \b\b\b\b\b\b\b\b\b\b\b\b\b\b\b\b\b\b\b\b\b\b 26% - trip_data_1.csv\b\b\b\b\b\b\b\b\b\b\b\b\b\b\b\b\b\b\b\b\b\b                      \b\b\b\b\b\b\b\b\b\b\b\b\b\b\b\b\b\b\b\b\b\b 27% - trip_data_1.csv\b\b\b\b\b\b\b\b\b\b\b\b\b\b\b\b\b\b\b\b\b\b                      \b\b\b\b\b\b\b\b\b\b\b\b\b\b\b\b\b\b\b\b\b\b 28% - trip_data_1.csv\b\b\b\b\b\b\b\b\b\b\b\b\b\b\b\b\b\b\b\b\b\b                      \b\b\b\b\b\b\b\b\b\b\b\b\b\b\b\b\b\b\b\b\b\b 29% - trip_data_1.csv\b\b\b\b\b\b\b\b\b\b\b\b\b\b\b\b\b\b\b\b\b\b                      \b\b\b\b\b\b\b\b\b\b\b\b\b\b\b\b\b\b\b\b\b\b 30% - trip_data_1.csv\b\b\b\b\b\b\b\b\b\b\b\b\b\b\b\b\b\b\b\b\b\b                      \b\b\b\b\b\b\b\b\b\b\b\b\b\b\b\b\b\b\b\b\b\b 31% - trip_data_1.csv\b\b\b\b\b\b\b\b\b\b\b\b\b\b\b\b\b\b\b\b\b\b                      \b\b\b\b\b\b\b\b\b\b\b\b\b\b\b\b\b\b\b\b\b\b 32% - trip_data_1.csv\b\b\b\b\b\b\b\b\b\b\b\b\b\b\b\b\b\b\b\b\b\b                      \b\b\b\b\b\b\b\b\b\b\b\b\b\b\b\b\b\b\b\b\b\b 33% - trip_data_1.csv\b\b\b\b\b\b\b\b\b\b\b\b\b\b\b\b\b\b\b\b\b\b                      \b\b\b\b\b\b\b\b\b\b\b\b\b\b\b\b\b\b\b\b\b\b 34% - trip_data_1.csv\b\b\b\b\b\b\b\b\b\b\b\b\b\b\b\b\b\b\b\b\b\b                      \b\b\b\b\b\b\b\b\b\b\b\b\b\b\b\b\b\b\b\b\b\b 35% - trip_data_1.csv\b\b\b\b\b\b\b\b\b\b\b\b\b\b\b\b\b\b\b\b\b\b                      \b\b\b\b\b\b\b\b\b\b\b\b\b\b\b\b\b\b\b\b\b\b 36% - trip_data_1.csv\b\b\b\b\b\b\b\b\b\b\b\b\b\b\b\b\b\b\b\b\b\b                      \b\b\b\b\b\b\b\b\b\b\b\b\b\b\b\b\b\b\b\b\b\b 37% - trip_data_1.csv\b\b\b\b\b\b\b\b\b\b\b\b\b\b\b\b\b\b\b\b\b\b                      \b\b\b\b\b\b\b\b\b\b\b\b\b\b\b\b\b\b\b\b\b\b 38% - trip_data_1.csv\b\b\b\b\b\b\b\b\b\b\b\b\b\b\b\b\b\b\b\b\b\b                      \b\b\b\b\b\b\b\b\b\b\b\b\b\b\b\b\b\b\b\b\b\b 39% - trip_data_1.csv\b\b\b\b\b\b\b\b\b\b\b\b\b\b\b\b\b\b\b\b\b\b                      \b\b\b\b\b\b\b\b\b\b\b\b\b\b\b\b\b\b\b\b\b\b 40% - trip_data_1.csv\b\b\b\b\b\b\b\b\b\b\b\b\b\b\b\b\b\b\b\b\b\b                      \b\b\b\b\b\b\b\b\b\b\b\b\b\b\b\b\b\b\b\b\b\b 41% - trip_data_1.csv\b\b\b\b\b\b\b\b\b\b\b\b\b\b\b\b\b\b\b\b\b\b                      \b\b\b\b\b\b\b\b\b\b\b\b\b\b\b\b\b\b\b\b\b\b 42% - trip_data_1.csv\b\b\b\b\b\b\b\b\b\b\b\b\b\b\b\b\b\b\b\b\b\b                      \b\b\b\b\b\b\b\b\b\b\b\b\b\b\b\b\b\b\b\b\b\b 43% - trip_data_1.csv\b\b\b\b\b\b\b\b\b\b\b\b\b\b\b\b\b\b\b\b\b\b                      \b\b\b\b\b\b\b\b\b\b\b\b\b\b\b\b\b\b\b\b\b\b 44% - trip_data_1.csv\b\b\b\b\b\b\b\b\b\b\b\b\b\b\b\b\b\b\b\b\b\b                      \b\b\b\b\b\b\b\b\b\b\b\b\b\b\b\b\b\b\b\b\b\b 45% - trip_data_1.csv\b\b\b\b\b\b\b\b\b\b\b\b\b\b\b\b\b\b\b\b\b\b                      \b\b\b\b\b\b\b\b\b\b\b\b\b\b\b\b\b\b\b\b\b\b 46% - trip_data_1.csv\b\b\b\b\b\b\b\b\b\b\b\b\b\b\b\b\b\b\b\b\b\b                      \b\b\b\b\b\b\b\b\b\b\b\b\b\b\b\b\b\b\b\b\b\b 47% - trip_data_1.csv\b\b\b\b\b\b\b\b\b\b\b\b\b\b\b\b\b\b\b\b\b\b                      \b\b\b\b\b\b\b\b\b\b\b\b\b\b\b\b\b\b\b\b\b\b 48% - trip_data_1.csv\b\b\b\b\b\b\b\b\b\b\b\b\b\b\b\b\b\b\b\b\b\b                      \b\b\b\b\b\b\b\b\b\b\b\b\b\b\b\b\b\b\b\b\b\b 49% - trip_data_1.csv\b\b\b\b\b\b\b\b\b\b\b\b\b\b\b\b\b\b\b\b\b\b                      \b\b\b\b\b\b\b\b\b\b\b\b\b\b\b\b\b\b\b\b\b\b 50% - trip_data_1.csv\b\b\b\b\b\b\b\b\b\b\b\b\b\b\b\b\b\b\b\b\b\b                      \b\b\b\b\b\b\b\b\b\b\b\b\b\b\b\b\b\b\b\b\b\b 51% - trip_data_1.csv\b\b\b\b\b\b\b\b\b\b\b\b\b\b\b\b\b\b\b\b\b\b                      \b\b\b\b\b\b\b\b\b\b\b\b\b\b\b\b\b\b\b\b\b\b 52% - trip_data_1.csv\b\b\b\b\b\b\b\b\b\b\b\b\b\b\b\b\b\b\b\b\b\b                      \b\b\b\b\b\b\b\b\b\b\b\b\b\b\b\b\b\b\b\b\b\b 53% - trip_data_1.csv\b\b\b\b\b\b\b\b\b\b\b\b\b\b\b\b\b\b\b\b\b\b                      \b\b\b\b\b\b\b\b\b\b\b\b\b\b\b\b\b\b\b\b\b\b 54% - trip_data_1.csv\b\b\b\b\b\b\b\b\b\b\b\b\b\b\b\b\b\b\b\b\b\b                      \b\b\b\b\b\b\b\b\b\b\b\b\b\b\b\b\b\b\b\b\b\b 55% - trip_data_1.csv\b\b\b\b\b\b\b\b\b\b\b\b\b\b\b\b\b\b\b\b\b\b                      \b\b\b\b\b\b\b\b\b\b\b\b\b\b\b\b\b\b\b\b\b\b 56% - trip_data_1.csv\b\b\b\b\b\b\b\b\b\b\b\b\b\b\b\b\b\b\b\b\b\b                      \b\b\b\b\b\b\b\b\b\b\b\b\b\b\b\b\b\b\b\b\b\b 57% - trip_data_1.csv\b\b\b\b\b\b\b\b\b\b\b\b\b\b\b\b\b\b\b\b\b\b                      \b\b\b\b\b\b\b\b\b\b\b\b\b\b\b\b\b\b\b\b\b\b 58% - trip_data_1.csv\b\b\b\b\b\b\b\b\b\b\b\b\b\b\b\b\b\b\b\b\b\b                      \b\b\b\b\b\b\b\b\b\b\b\b\b\b\b\b\b\b\b\b\b\b 59% - trip_data_1.csv\b\b\b\b\b\b\b\b\b\b\b\b\b\b\b\b\b\b\b\b\b\b                      \b\b\b\b\b\b\b\b\b\b\b\b\b\b\b\b\b\b\b\b\b\b 60% - trip_data_1.csv\b\b\b\b\b\b\b\b\b\b\b\b\b\b\b\b\b\b\b\b\b\b                      \b\b\b\b\b\b\b\b\b\b\b\b\b\b\b\b\b\b\b\b\b\b 61% - trip_data_1.csv\b\b\b\b\b\b\b\b\b\b\b\b\b\b\b\b\b\b\b\b\b\b                      \b\b\b\b\b\b\b\b\b\b\b\b\b\b\b\b\b\b\b\b\b\b 62% - trip_data_1.csv\b\b\b\b\b\b\b\b\b\b\b\b\b\b\b\b\b\b\b\b\b\b                      \b\b\b\b\b\b\b\b\b\b\b\b\b\b\b\b\b\b\b\b\b\b 63% - trip_data_1.csv\b\b\b\b\b\b\b\b\b\b\b\b\b\b\b\b\b\b\b\b\b\b                      \b\b\b\b\b\b\b\b\b\b\b\b\b\b\b\b\b\b\b\b\b\b 64% - trip_data_1.csv\b\b\b\b\b\b\b\b\b\b\b\b\b\b\b\b\b\b\b\b\b\b                      \b\b\b\b\b\b\b\b\b\b\b\b\b\b\b\b\b\b\b\b\b\b 65% - trip_data_1.csv\b\b\b\b\b\b\b\b\b\b\b\b\b\b\b\b\b\b\b\b\b\b                      \b\b\b\b\b\b\b\b\b\b\b\b\b\b\b\b\b\b\b\b\b\b 66% - trip_data_1.csv\b\b\b\b\b\b\b\b\b\b\b\b\b\b\b\b\b\b\b\b\b\b                      \b\b\b\b\b\b\b\b\b\b\b\b\b\b\b\b\b\b\b\b\b\b 67% - trip_data_1.csv\b\b\b\b\b\b\b\b\b\b\b\b\b\b\b\b\b\b\b\b\b\b                      \b\b\b\b\b\b\b\b\b\b\b\b\b\b\b\b\b\b\b\b\b\b 68% - trip_data_1.csv\b\b\b\b\b\b\b\b\b\b\b\b\b\b\b\b\b\b\b\b\b\b                      \b\b\b\b\b\b\b\b\b\b\b\b\b\b\b\b\b\b\b\b\b\b 69% - trip_data_1.csv\b\b\b\b\b\b\b\b\b\b\b\b\b\b\b\b\b\b\b\b\b\b                      \b\b\b\b\b\b\b\b\b\b\b\b\b\b\b\b\b\b\b\b\b\b 70% - trip_data_1.csv\b\b\b\b\b\b\b\b\b\b\b\b\b\b\b\b\b\b\b\b\b\b                      \b\b\b\b\b\b\b\b\b\b\b\b\b\b\b\b\b\b\b\b\b\b 71% - trip_data_1.csv\b\b\b\b\b\b\b\b\b\b\b\b\b\b\b\b\b\b\b\b\b\b                      \b\b\b\b\b\b\b\b\b\b\b\b\b\b\b\b\b\b\b\b\b\b 72% - trip_data_1.csv\b\b\b\b\b\b\b\b\b\b\b\b\b\b\b\b\b\b\b\b\b\b                      \b\b\b\b\b\b\b\b\b\b\b\b\b\b\b\b\b\b\b\b\b\b 73% - trip_data_1.csv\b\b\b\b\b\b\b\b\b\b\b\b\b\b\b\b\b\b\b\b\b\b                      \b\b\b\b\b\b\b\b\b\b\b\b\b\b\b\b\b\b\b\b\b\b 74% - trip_data_1.csv\b\b\b\b\b\b\b\b\b\b\b\b\b\b\b\b\b\b\b\b\b\b                      \b\b\b\b\b\b\b\b\b\b\b\b\b\b\b\b\b\b\b\b\b\b 75% - trip_data_1.csv\b\b\b\b\b\b\b\b\b\b\b\b\b\b\b\b\b\b\b\b\b\b                      \b\b\b\b\b\b\b\b\b\b\b\b\b\b\b\b\b\b\b\b\b\b 76% - trip_data_1.csv\b\b\b\b\b\b\b\b\b\b\b\b\b\b\b\b\b\b\b\b\b\b                      \b\b\b\b\b\b\b\b\b\b\b\b\b\b\b\b\b\b\b\b\b\b 77% - trip_data_1.csv\b\b\b\b\b\b\b\b\b\b\b\b\b\b\b\b\b\b\b\b\b\b                      \b\b\b\b\b\b\b\b\b\b\b\b\b\b\b\b\b\b\b\b\b\b 78% - trip_data_1.csv\b\b\b\b\b\b\b\b\b\b\b\b\b\b\b\b\b\b\b\b\b\b                      \b\b\b\b\b\b\b\b\b\b\b\b\b\b\b\b\b\b\b\b\b\b 79% - trip_data_1.csv\b\b\b\b\b\b\b\b\b\b\b\b\b\b\b\b\b\b\b\b\b\b                      \b\b\b\b\b\b\b\b\b\b\b\b\b\b\b\b\b\b\b\b\b\b 80% - trip_data_1.csv\b\b\b\b\b\b\b\b\b\b\b\b\b\b\b\b\b\b\b\b\b\b                      \b\b\b\b\b\b\b\b\b\b\b\b\b\b\b\b\b\b\b\b\b\b 81% - trip_data_1.csv\b\b\b\b\b\b\b\b\b\b\b\b\b\b\b\b\b\b\b\b\b\b                      \b\b\b\b\b\b\b\b\b\b\b\b\b\b\b\b\b\b\b\b\b\b 82% - trip_data_1.csv\b\b\b\b\b\b\b\b\b\b\b\b\b\b\b\b\b\b\b\b\b\b                      \b\b\b\b\b\b\b\b\b\b\b\b\b\b\b\b\b\b\b\b\b\b 83% - trip_data_1.csv\b\b\b\b\b\b\b\b\b\b\b\b\b\b\b\b\b\b\b\b\b\b                      \b\b\b\b\b\b\b\b\b\b\b\b\b\b\b\b\b\b\b\b\b\b 84% - trip_data_1.csv\b\b\b\b\b\b\b\b\b\b\b\b\b\b\b\b\b\b\b\b\b\b                      \b\b\b\b\b\b\b\b\b\b\b\b\b\b\b\b\b\b\b\b\b\b 85% - trip_data_1.csv\b\b\b\b\b\b\b\b\b\b\b\b\b\b\b\b\b\b\b\b\b\b                      \b\b\b\b\b\b\b\b\b\b\b\b\b\b\b\b\b\b\b\b\b\b 86% - trip_data_1.csv\b\b\b\b\b\b\b\b\b\b\b\b\b\b\b\b\b\b\b\b\b\b                      \b\b\b\b\b\b\b\b\b\b\b\b\b\b\b\b\b\b\b\b\b\b 87% - trip_data_1.csv\b\b\b\b\b\b\b\b\b\b\b\b\b\b\b\b\b\b\b\b\b\b                      \b\b\b\b\b\b\b\b\b\b\b\b\b\b\b\b\b\b\b\b\b\b 88% - trip_data_1.csv\b\b\b\b\b\b\b\b\b\b\b\b\b\b\b\b\b\b\b\b\b\b                      \b\b\b\b\b\b\b\b\b\b\b\b\b\b\b\b\b\b\b\b\b\b 89% - trip_data_1.csv\b\b\b\b\b\b\b\b\b\b\b\b\b\b\b\b\b\b\b\b\b\b                      \b\b\b\b\b\b\b\b\b\b\b\b\b\b\b\b\b\b\b\b\b\b 90% - trip_data_1.csv\b\b\b\b\b\b\b\b\b\b\b\b\b\b\b\b\b\b\b\b\b\b                      \b\b\b\b\b\b\b\b\b\b\b\b\b\b\b\b\b\b\b\b\b\b 91% - trip_data_1.csv\b\b\b\b\b\b\b\b\b\b\b\b\b\b\b\b\b\b\b\b\b\b                      \b\b\b\b\b\b\b\b\b\b\b\b\b\b\b\b\b\b\b\b\b\b 92% - trip_data_1.csv\b\b\b\b\b\b\b\b\b\b\b\b\b\b\b\b\b\b\b\b\b\b                      \b\b\b\b\b\b\b\b\b\b\b\b\b\b\b\b\b\b\b\b\b\b 93% - trip_data_1.csv\b\b\b\b\b\b\b\b\b\b\b\b\b\b\b\b\b\b\b\b\b\b                      \b\b\b\b\b\b\b\b\b\b\b\b\b\b\b\b\b\b\b\b\b\b 94% - trip_data_1.csv\b\b\b\b\b\b\b\b\b\b\b\b\b\b\b\b\b\b\b\b\b\b                      \b\b\b\b\b\b\b\b\b\b\b\b\b\b\b\b\b\b\b\b\b\b 95% - trip_data_1.csv\b\b\b\b\b\b\b\b\b\b\b\b\b\b\b\b\b\b\b\b\b\b                      \b\b\b\b\b\b\b\b\b\b\b\b\b\b\b\b\b\b\b\b\b\b 96% - trip_data_1.csv\b\b\b\b\b\b\b\b\b\b\b\b\b\b\b\b\b\b\b\b\b\b                      \b\b\b\b\b\b\b\b\b\b\b\b\b\b\b\b\b\b\b\b\b\b 97% - trip_data_1.csv\b\b\b\b\b\b\b\b\b\b\b\b\b\b\b\b\b\b\b\b\b\b                      \b\b\b\b\b\b\b\b\b\b\b\b\b\b\b\b\b\b\b\b\b\b 98% - trip_data_1.csv\b\b\b\b\b\b\b\b\b\b\b\b\b\b\b\b\b\b\b\b\b\b                      \b\b\b\b\b\b\b\b\b\b\b\b\b\b\b\b\b\b\b\b\b\b 99% - trip_data_1.csv\b\b\b\b\b\b\b\b\b\b\b\b\b\b\b\b\b\b\b\b\b\b                      \b\b\b\b\b\b\b\b\b\b\b\b\b\b\b\b\b\b\b\b\b\b100% 1\b\b\b\b\b\b      \b\b\b\b\b\bEverything is Ok\n",
            "\n",
            "Size:       2459600863\n",
            "Compressed: 4102781969\n"
          ],
          "name": "stdout"
        }
      ]
    },
    {
      "cell_type": "markdown",
      "metadata": {
        "id": "wGxjED_uiQrF",
        "colab_type": "text"
      },
      "source": [
        "Busco donde se descomprimió el archivo"
      ]
    },
    {
      "cell_type": "code",
      "metadata": {
        "id": "6yGycHSie7CC",
        "colab_type": "code",
        "colab": {
          "base_uri": "https://localhost:8080/",
          "height": 340
        },
        "outputId": "51e9c06b-414d-48db-995a-e840708f0b14"
      },
      "source": [
        "ls"
      ],
      "execution_count": 6,
      "outputs": [
        {
          "output_type": "stream",
          "text": [
            "'Copia de Copia de SisDist_S1_L1.ipynb'                Examen_Final.ipynb\n",
            "'Copia de Copy of MCA_SistDist_Ex1'                    Sesion2_Sist_dist2.ipynb\n",
            "'Copia de Hola, Colaboratory'                          SisDist2_Ex1.ipynb\n",
            "'Copia de Hola, Colaboratory (1)'                     'SisDist2_S2 (1).ipynb'\n",
            "'Copia de Hola, Colaboratory (2)'                      SisDist2_S2.ipynb\n",
            "'Copia de Sesion2_Sist_dist2.ipynb'                    SisDist2_sesion2.ipynb\n",
            "'Copia de SisDist_S1_L1.ipynb'                         SisDist_S1_L1.ipynb\n",
            "'Copia de SisDist_S5.ipynb'                            SisDist_S5.ipynb\n",
            "'Copia de SistDist_S4 (1).ipynb'                       \u001b[0m\u001b[01;34mSistDist2\u001b[0m/\n",
            "'Copia de SistDist_S4.ipynb'                           SistDist2_Exam1.ipynb\n",
            "'Copia de SistDist_S6'                                 Sist_Dist2_Examen1.ipynb\n",
            "'Copia de Te damos la bienvenida a Colaboratory'       SistDist_S4.ipynb\n",
            "'Copia de Te damos la bienvenida a Colaboratory (1)'   SistDist_S6.ipynb\n",
            "'Copia de Te damos la bienvenida a Colaboratory (2)'   trip_data.7z\n",
            "'Copia de Te damos la bienvenida a Colaboratory (3)'   Untitled0.ipynb\n",
            "'Copia de Te damos la bienvenida a Colaboratory (4)'   Untitled1.ipynb\n",
            "'Copia de Te damos la bienvenida a Colaboratory (5)'   Untitled2.ipynb\n",
            " DescensoGradiente.ipynb                               Untitled3.ipynb\n",
            " \u001b[01;34mExamData\u001b[0m/                                             Untitled.ipynb\n"
          ],
          "name": "stdout"
        }
      ]
    },
    {
      "cell_type": "markdown",
      "metadata": {
        "id": "JrBA2BzeiVzq",
        "colab_type": "text"
      },
      "source": [
        "El archivo se encuentra en la carpeta que cree ExamData, por lo tanto me cambio de directorio"
      ]
    },
    {
      "cell_type": "code",
      "metadata": {
        "id": "7XfFIj9HfHgu",
        "colab_type": "code",
        "colab": {
          "base_uri": "https://localhost:8080/",
          "height": 34
        },
        "outputId": "28987ba5-c15d-4b6b-be08-3f980b7594b8"
      },
      "source": [
        "cd ExamData"
      ],
      "execution_count": 7,
      "outputs": [
        {
          "output_type": "stream",
          "text": [
            "/content/gdrive/My Drive/Colab Notebooks/ExamData\n"
          ],
          "name": "stdout"
        }
      ]
    },
    {
      "cell_type": "code",
      "metadata": {
        "id": "w8HTiRFqig9V",
        "colab_type": "code",
        "colab": {
          "base_uri": "https://localhost:8080/",
          "height": 34
        },
        "outputId": "b69ad0fe-8cd0-4fa4-e8b7-42b78b1b5117"
      },
      "source": [
        "ls"
      ],
      "execution_count": 8,
      "outputs": [
        {
          "output_type": "stream",
          "text": [
            "trip_data_1.csv  Untitled0.ipynb\n"
          ],
          "name": "stdout"
        }
      ]
    },
    {
      "cell_type": "markdown",
      "metadata": {
        "id": "PzWnkrkOijcZ",
        "colab_type": "text"
      },
      "source": [
        "Puedo observar de la celda anterior que el archivo trip_data_1.csv si se encuentra en la carpeta"
      ]
    },
    {
      "cell_type": "markdown",
      "metadata": {
        "id": "RysRPqAcic52",
        "colab_type": "text"
      },
      "source": [
        "Leo el archivo con pandas"
      ]
    },
    {
      "cell_type": "code",
      "metadata": {
        "id": "LEYf_KCEey2e",
        "colab_type": "code",
        "colab": {}
      },
      "source": [
        "df = pd.read_csv('trip_data_1.csv')"
      ],
      "execution_count": 0,
      "outputs": []
    },
    {
      "cell_type": "markdown",
      "metadata": {
        "id": "ZLceWc1NivIH",
        "colab_type": "text"
      },
      "source": [
        "Verifico si lo leyó bien, para ello visualizo los primeros datos con los nombres de las columnas"
      ]
    },
    {
      "cell_type": "code",
      "metadata": {
        "id": "SblNd9gxfpeD",
        "colab_type": "code",
        "colab": {
          "base_uri": "https://localhost:8080/",
          "height": 309
        },
        "outputId": "4817c40c-8ca1-4e37-c39a-a16c7b910f57"
      },
      "source": [
        "df.head()"
      ],
      "execution_count": 10,
      "outputs": [
        {
          "output_type": "execute_result",
          "data": {
            "text/html": [
              "<div>\n",
              "<style scoped>\n",
              "    .dataframe tbody tr th:only-of-type {\n",
              "        vertical-align: middle;\n",
              "    }\n",
              "\n",
              "    .dataframe tbody tr th {\n",
              "        vertical-align: top;\n",
              "    }\n",
              "\n",
              "    .dataframe thead th {\n",
              "        text-align: right;\n",
              "    }\n",
              "</style>\n",
              "<table border=\"1\" class=\"dataframe\">\n",
              "  <thead>\n",
              "    <tr style=\"text-align: right;\">\n",
              "      <th></th>\n",
              "      <th>medallion</th>\n",
              "      <th>hack_license</th>\n",
              "      <th>vendor_id</th>\n",
              "      <th>rate_code</th>\n",
              "      <th>store_and_fwd_flag</th>\n",
              "      <th>pickup_datetime</th>\n",
              "      <th>dropoff_datetime</th>\n",
              "      <th>passenger_count</th>\n",
              "      <th>trip_time_in_secs</th>\n",
              "      <th>trip_distance</th>\n",
              "      <th>pickup_longitude</th>\n",
              "      <th>pickup_latitude</th>\n",
              "      <th>dropoff_longitude</th>\n",
              "      <th>dropoff_latitude</th>\n",
              "    </tr>\n",
              "  </thead>\n",
              "  <tbody>\n",
              "    <tr>\n",
              "      <th>0</th>\n",
              "      <td>89D227B655E5C82AECF13C3F540D4CF4</td>\n",
              "      <td>BA96DE419E711691B9445D6A6307C170</td>\n",
              "      <td>CMT</td>\n",
              "      <td>1</td>\n",
              "      <td>N</td>\n",
              "      <td>2013-01-01 15:11:48</td>\n",
              "      <td>2013-01-01 15:18:10</td>\n",
              "      <td>4</td>\n",
              "      <td>382</td>\n",
              "      <td>1.0</td>\n",
              "      <td>-73.978165</td>\n",
              "      <td>40.757977</td>\n",
              "      <td>-73.989838</td>\n",
              "      <td>40.751171</td>\n",
              "    </tr>\n",
              "    <tr>\n",
              "      <th>1</th>\n",
              "      <td>0BD7C8F5BA12B88E0B67BED28BEA73D8</td>\n",
              "      <td>9FD8F69F0804BDB5549F40E9DA1BE472</td>\n",
              "      <td>CMT</td>\n",
              "      <td>1</td>\n",
              "      <td>N</td>\n",
              "      <td>2013-01-06 00:18:35</td>\n",
              "      <td>2013-01-06 00:22:54</td>\n",
              "      <td>1</td>\n",
              "      <td>259</td>\n",
              "      <td>1.5</td>\n",
              "      <td>-74.006683</td>\n",
              "      <td>40.731781</td>\n",
              "      <td>-73.994499</td>\n",
              "      <td>40.750660</td>\n",
              "    </tr>\n",
              "    <tr>\n",
              "      <th>2</th>\n",
              "      <td>0BD7C8F5BA12B88E0B67BED28BEA73D8</td>\n",
              "      <td>9FD8F69F0804BDB5549F40E9DA1BE472</td>\n",
              "      <td>CMT</td>\n",
              "      <td>1</td>\n",
              "      <td>N</td>\n",
              "      <td>2013-01-05 18:49:41</td>\n",
              "      <td>2013-01-05 18:54:23</td>\n",
              "      <td>1</td>\n",
              "      <td>282</td>\n",
              "      <td>1.1</td>\n",
              "      <td>-74.004707</td>\n",
              "      <td>40.737770</td>\n",
              "      <td>-74.009834</td>\n",
              "      <td>40.726002</td>\n",
              "    </tr>\n",
              "    <tr>\n",
              "      <th>3</th>\n",
              "      <td>DFD2202EE08F7A8DC9A57B02ACB81FE2</td>\n",
              "      <td>51EE87E3205C985EF8431D850C786310</td>\n",
              "      <td>CMT</td>\n",
              "      <td>1</td>\n",
              "      <td>N</td>\n",
              "      <td>2013-01-07 23:54:15</td>\n",
              "      <td>2013-01-07 23:58:20</td>\n",
              "      <td>2</td>\n",
              "      <td>244</td>\n",
              "      <td>0.7</td>\n",
              "      <td>-73.974602</td>\n",
              "      <td>40.759945</td>\n",
              "      <td>-73.984734</td>\n",
              "      <td>40.759388</td>\n",
              "    </tr>\n",
              "    <tr>\n",
              "      <th>4</th>\n",
              "      <td>DFD2202EE08F7A8DC9A57B02ACB81FE2</td>\n",
              "      <td>51EE87E3205C985EF8431D850C786310</td>\n",
              "      <td>CMT</td>\n",
              "      <td>1</td>\n",
              "      <td>N</td>\n",
              "      <td>2013-01-07 23:25:03</td>\n",
              "      <td>2013-01-07 23:34:24</td>\n",
              "      <td>1</td>\n",
              "      <td>560</td>\n",
              "      <td>2.1</td>\n",
              "      <td>-73.976250</td>\n",
              "      <td>40.748528</td>\n",
              "      <td>-74.002586</td>\n",
              "      <td>40.747868</td>\n",
              "    </tr>\n",
              "  </tbody>\n",
              "</table>\n",
              "</div>"
            ],
            "text/plain": [
              "                          medallion  ... dropoff_latitude\n",
              "0  89D227B655E5C82AECF13C3F540D4CF4  ...        40.751171\n",
              "1  0BD7C8F5BA12B88E0B67BED28BEA73D8  ...        40.750660\n",
              "2  0BD7C8F5BA12B88E0B67BED28BEA73D8  ...        40.726002\n",
              "3  DFD2202EE08F7A8DC9A57B02ACB81FE2  ...        40.759388\n",
              "4  DFD2202EE08F7A8DC9A57B02ACB81FE2  ...        40.747868\n",
              "\n",
              "[5 rows x 14 columns]"
            ]
          },
          "metadata": {
            "tags": []
          },
          "execution_count": 10
        }
      ]
    },
    {
      "cell_type": "markdown",
      "metadata": {
        "id": "TM8snCOEi4TN",
        "colab_type": "text"
      },
      "source": [
        "Respondo a las preguntas \n",
        "\n",
        "3. Responder las siguientes preguntas:\n",
        "\n",
        "    1.  Cuantas columnas contiene cada archivo de datos descomprimido\n",
        "    2.  Cuantos renglones tiene cada archivo\n",
        "    \n",
        "    Para ello utilizo shape de pandas y me da la respuesta que busco"
      ]
    },
    {
      "cell_type": "code",
      "metadata": {
        "id": "zMQ45apNf6al",
        "colab_type": "code",
        "colab": {
          "base_uri": "https://localhost:8080/",
          "height": 34
        },
        "outputId": "ade19cb8-1732-4185-bbb1-becf285b50b9"
      },
      "source": [
        "df.shape"
      ],
      "execution_count": 11,
      "outputs": [
        {
          "output_type": "execute_result",
          "data": {
            "text/plain": [
              "(14776615, 14)"
            ]
          },
          "metadata": {
            "tags": []
          },
          "execution_count": 11
        }
      ]
    },
    {
      "cell_type": "code",
      "metadata": {
        "id": "Eb3Tf-aVnmN2",
        "colab_type": "code",
        "colab": {}
      },
      "source": [
        "boleana = pd.isnull(df)\n",
        "print (boleana)"
      ],
      "execution_count": 0,
      "outputs": []
    },
    {
      "cell_type": "markdown",
      "metadata": {
        "id": "-0cDBsRpgO53",
        "colab_type": "text"
      },
      "source": [
        "De acuerdo a la consulta anterior tenemos 14 columnas y 14776615 líneas o registros"
      ]
    },
    {
      "cell_type": "markdown",
      "metadata": {
        "id": "7PJspdzpJ-V2",
        "colab_type": "text"
      },
      "source": [
        "4. Identificar si existen renglones con errores en los datos, por ejemplo si hay columnas de mas (o de menos), si hay campos vacios, etc.\n",
        "\n",
        "    1. indicar claramente cuantos son los renglones con errores y a que archivos corresponden"
      ]
    },
    {
      "cell_type": "code",
      "metadata": {
        "id": "-bw8aYLKgAW3",
        "colab_type": "code",
        "colab": {
          "base_uri": "https://localhost:8080/",
          "height": 34
        },
        "outputId": "32f00b16-44fa-4504-c431-2e82d897487e"
      },
      "source": [
        "nulos=len(df[pd.isnull(df.medallion)])\n",
        "print(nulos)"
      ],
      "execution_count": 30,
      "outputs": [
        {
          "output_type": "stream",
          "text": [
            "0\n"
          ],
          "name": "stdout"
        }
      ]
    },
    {
      "cell_type": "markdown",
      "metadata": {
        "id": "ZCz936EvsIqH",
        "colab_type": "text"
      },
      "source": [
        "Para responder si hay o no valores nulos esta última instrucción nos sirve, solo que debemos iterarla para que lea todas las columnas.\n",
        "\n",
        "Voy a crear una lista con los nombres de las columnas del archivo y despues recorreré la lista con un for, para determinar si tienen o no valores nulos"
      ]
    },
    {
      "cell_type": "markdown",
      "metadata": {
        "id": "6OpEqOwIulhS",
        "colab_type": "text"
      },
      "source": [
        "#Columnas con valores nulos:"
      ]
    },
    {
      "cell_type": "code",
      "metadata": {
        "id": "p1bCjRO1s4Y7",
        "colab_type": "code",
        "colab": {
          "base_uri": "https://localhost:8080/",
          "height": 255
        },
        "outputId": "e1d5f17c-2cbb-4a25-d399-5482cdde065d"
      },
      "source": [
        "nombres_cols = df.columns.tolist()\n",
        "\n",
        "for column in nombres_cols:\n",
        "  print(\"Valores nulos en la columna <{0}>: {1}\".format(column, df[column].isnull().sum()))\n"
      ],
      "execution_count": 28,
      "outputs": [
        {
          "output_type": "stream",
          "text": [
            "Valores nulos en la columna <medallion>: 0\n",
            "Valores nulos en la columna <hack_license>: 0\n",
            "Valores nulos en la columna <vendor_id>: 0\n",
            "Valores nulos en la columna <rate_code>: 0\n",
            "Valores nulos en la columna <store_and_fwd_flag>: 7326207\n",
            "Valores nulos en la columna <pickup_datetime>: 0\n",
            "Valores nulos en la columna <dropoff_datetime>: 0\n",
            "Valores nulos en la columna <passenger_count>: 0\n",
            "Valores nulos en la columna <trip_time_in_secs>: 0\n",
            "Valores nulos en la columna <trip_distance>: 0\n",
            "Valores nulos en la columna <pickup_longitude>: 0\n",
            "Valores nulos en la columna <pickup_latitude>: 0\n",
            "Valores nulos en la columna <dropoff_longitude>: 86\n",
            "Valores nulos en la columna <dropoff_latitude>: 86\n"
          ],
          "name": "stdout"
        }
      ]
    },
    {
      "cell_type": "markdown",
      "metadata": {
        "id": "YxKscpm3uWN7",
        "colab_type": "text"
      },
      "source": [
        "Podemos observar que nuestro archivo si tiene valores nulos"
      ]
    },
    {
      "cell_type": "markdown",
      "metadata": {
        "id": "yTOOMI8GvVhz",
        "colab_type": "text"
      },
      "source": [
        "     2. crear un nuevo conjunto de datos con los errores eliminados"
      ]
    },
    {
      "cell_type": "code",
      "metadata": {
        "id": "JUuek9lz0Jpu",
        "colab_type": "code",
        "colab": {}
      },
      "source": [
        "df_sinNulos = df.dropna(how='any')"
      ],
      "execution_count": 0,
      "outputs": []
    },
    {
      "cell_type": "markdown",
      "metadata": {
        "id": "tNiumaTc0d_k",
        "colab_type": "text"
      },
      "source": [
        "Ahora volvamos a correr la instrucción de la celda 28 para verificar si se eliminaron los nulos"
      ]
    },
    {
      "cell_type": "code",
      "metadata": {
        "id": "DdplfKvO0vvl",
        "colab_type": "code",
        "colab": {
          "base_uri": "https://localhost:8080/",
          "height": 255
        },
        "outputId": "4561d7dc-087c-4369-fa4b-8743a51638b1"
      },
      "source": [
        "nombres_cols = df_sinNulos.columns.tolist()\n",
        "\n",
        "for column in nombres_cols:\n",
        "  print(\"Valores nulos en la columna <{0}>: {1}\".format(column, df_sinNulos[column].isnull().sum()))"
      ],
      "execution_count": 32,
      "outputs": [
        {
          "output_type": "stream",
          "text": [
            "Valores nulos en la columna <medallion>: 0\n",
            "Valores nulos en la columna <hack_license>: 0\n",
            "Valores nulos en la columna <vendor_id>: 0\n",
            "Valores nulos en la columna <rate_code>: 0\n",
            "Valores nulos en la columna <store_and_fwd_flag>: 0\n",
            "Valores nulos en la columna <pickup_datetime>: 0\n",
            "Valores nulos en la columna <dropoff_datetime>: 0\n",
            "Valores nulos en la columna <passenger_count>: 0\n",
            "Valores nulos en la columna <trip_time_in_secs>: 0\n",
            "Valores nulos en la columna <trip_distance>: 0\n",
            "Valores nulos en la columna <pickup_longitude>: 0\n",
            "Valores nulos en la columna <pickup_latitude>: 0\n",
            "Valores nulos en la columna <dropoff_longitude>: 0\n",
            "Valores nulos en la columna <dropoff_latitude>: 0\n"
          ],
          "name": "stdout"
        }
      ]
    },
    {
      "cell_type": "markdown",
      "metadata": {
        "id": "TKHEnZh61GfZ",
        "colab_type": "text"
      },
      "source": [
        "Como podemos observar en el resultado anterior, hemos creado un nuevo conjunto llamado df_sinNulos sin los errores "
      ]
    },
    {
      "cell_type": "markdown",
      "metadata": {
        "id": "fAcfnHz9NRxg",
        "colab_type": "text"
      },
      "source": [
        "Para hacer el cómputo más rápido y eficiente dividiré el archivo en trozos.\n",
        "\n",
        "Debido a que el archvo contiene 14776615 lineas lo dividiré primero en tamaños de 500,000 y probaremos si este tamaño es eficiente."
      ]
    },
    {
      "cell_type": "code",
      "metadata": {
        "id": "BGpvuVr8KLR3",
        "colab_type": "code",
        "colab": {}
      },
      "source": [
        "archivo = 'trip_data_1.csv'"
      ],
      "execution_count": 0,
      "outputs": []
    },
    {
      "cell_type": "markdown",
      "metadata": {
        "id": "AqE5W9TC2Gxv",
        "colab_type": "text"
      },
      "source": [
        "#5. Crear un DataFrame usando la libreria pandas y responder lo siguiente:\n",
        "\n",
        "    1. Indicar el tiempo en segundos, que tarda la libreria pandas en leer un archivo a un DataFrame\n",
        "    2. Cual es la huella de memoria del proceso usado para generar el objeto DataFrame\n",
        "    3. Cuanta memoria del sistema se usa para crear el objeto anterior\n",
        "    4. Indicar el tiempo que tarda pandas en obtener el promedio de la distancia de viaje (trip_distance)"
      ]
    },
    {
      "cell_type": "markdown",
      "metadata": {
        "id": "5gHAoxzW6aoV",
        "colab_type": "text"
      },
      "source": [
        "El dataframe ya se ha creado arriba para resolver las preguntas anteriores. Sin embargo, para fines de responder las del punto 5 lo volveremos a crear utilizando los mismos datos"
      ]
    },
    {
      "cell_type": "code",
      "metadata": {
        "id": "Y8HiuBjy5tP3",
        "colab_type": "code",
        "colab": {}
      },
      "source": [
        "t_start = time.time()\n",
        "df = pd.read_csv('trip_data_1.csv')\n",
        "t_end = time.time()\n",
        "print('Tiempo de lectura: {} s'.format(t_end-t_start)) # time [s]"
      ],
      "execution_count": 0,
      "outputs": []
    },
    {
      "cell_type": "markdown",
      "metadata": {
        "id": "tdhqYDMz78o8",
        "colab_type": "text"
      },
      "source": [
        "Definimos una función que nos permita medir la huella de memoria"
      ]
    },
    {
      "cell_type": "code",
      "metadata": {
        "id": "OLjtnY7R7kRw",
        "colab_type": "code",
        "colab": {}
      },
      "source": [
        "import psutil, os\n",
        "\n",
        "def huella_memoria():\n",
        "  '''Regresa la huella de memoria usada por un proceso de Python'''\n",
        "  mem = psutil.Process(os.getpid()).memory_info().rss\n",
        "  return (mem / 1024**2)"
      ],
      "execution_count": 0,
      "outputs": []
    },
    {
      "cell_type": "code",
      "metadata": {
        "id": "XvpbnhJg8C0H",
        "colab_type": "code",
        "colab": {}
      },
      "source": [
        "antes = huella_memoria()"
      ],
      "execution_count": 0,
      "outputs": []
    },
    {
      "cell_type": "code",
      "metadata": {
        "id": "gDBYIIBP8gqM",
        "colab_type": "code",
        "colab": {}
      },
      "source": [
        "n = (1024**2)//8"
      ],
      "execution_count": 0,
      "outputs": []
    },
    {
      "cell_type": "code",
      "metadata": {
        "id": "weYiXn2i88iY",
        "colab_type": "code",
        "colab": {}
      },
      "source": [
        "df = pd.read_csv('trip_data_1.csv')"
      ],
      "execution_count": 0,
      "outputs": []
    },
    {
      "cell_type": "code",
      "metadata": {
        "id": "TRKTZBBv9m-W",
        "colab_type": "code",
        "colab": {}
      },
      "source": [
        "despues = huella_memoria()"
      ],
      "execution_count": 0,
      "outputs": []
    },
    {
      "cell_type": "markdown",
      "metadata": {
        "id": "YwJx6KFnTBAy",
        "colab_type": "text"
      },
      "source": [
        "Respondemos pregunta 2"
      ]
    },
    {
      "cell_type": "code",
      "metadata": {
        "id": "OKekfci19Ry0",
        "colab_type": "code",
        "colab": {
          "base_uri": "https://localhost:8080/",
          "height": 34
        },
        "outputId": "e7e4049e-b9bf-4192-a9bf-2119c552c6ab"
      },
      "source": [
        "print('Memoria antes: {} MB'.format(antes))"
      ],
      "execution_count": 14,
      "outputs": [
        {
          "output_type": "stream",
          "text": [
            "Memoria antes: 143.6328125 MB\n"
          ],
          "name": "stdout"
        }
      ]
    },
    {
      "cell_type": "code",
      "metadata": {
        "id": "3GwiNQW59czO",
        "colab_type": "code",
        "colab": {
          "base_uri": "https://localhost:8080/",
          "height": 34
        },
        "outputId": "d01367f6-d3af-4e67-ca2c-1e153b4e34d2"
      },
      "source": [
        "print('Memoria despues: {} MB'.format(despues))"
      ],
      "execution_count": 15,
      "outputs": [
        {
          "output_type": "stream",
          "text": [
            "Memoria despues: 5107.66796875 MB\n"
          ],
          "name": "stdout"
        }
      ]
    },
    {
      "cell_type": "markdown",
      "metadata": {
        "id": "36yoNh9PTLao",
        "colab_type": "text"
      },
      "source": [
        "Para responder la pregunta 3 hacemos una resta para saber la diferencia entre la memoria anterior y la actual, así sabremos cuanta memoria ocupa el objeto."
      ]
    },
    {
      "cell_type": "code",
      "metadata": {
        "id": "T3HdJZn8Tbyp",
        "colab_type": "code",
        "colab": {
          "base_uri": "https://localhost:8080/",
          "height": 34
        },
        "outputId": "109b3840-3509-45dc-9ee0-c06bc640ab73"
      },
      "source": [
        "mem_objeto = despues-antes\n",
        "\n",
        "print('La cantidad de memoria que ocupa el dataframe es de: {} MB'.format(mem_objeto))"
      ],
      "execution_count": 16,
      "outputs": [
        {
          "output_type": "stream",
          "text": [
            "La cantidad de memoria que ocupa el dataframe es de: 4964.03515625 MB\n"
          ],
          "name": "stdout"
        }
      ]
    },
    {
      "cell_type": "code",
      "metadata": {
        "id": "4KnBNQYAVxx5",
        "colab_type": "code",
        "colab": {
          "base_uri": "https://localhost:8080/",
          "height": 34
        },
        "outputId": "755bd54d-60c5-4223-cf14-a79efd70ac53"
      },
      "source": [
        "promedio=df['trip_distance'].mean()\n",
        "print(promedio)"
      ],
      "execution_count": 20,
      "outputs": [
        {
          "output_type": "stream",
          "text": [
            "2.770975670679966\n"
          ],
          "name": "stdout"
        }
      ]
    },
    {
      "cell_type": "code",
      "metadata": {
        "id": "0f0U0t-uOEGC",
        "colab_type": "code",
        "colab": {
          "base_uri": "https://localhost:8080/",
          "height": 527
        },
        "outputId": "55553416-1560-42cb-b3e0-a20474beeadd"
      },
      "source": [
        "for trozo in pd.read_csv(archivo, chunksize=500000):\n",
        "  print('type: %s shape %s' % (type(trozo), trozo.shape))"
      ],
      "execution_count": 22,
      "outputs": [
        {
          "output_type": "stream",
          "text": [
            "type: <class 'pandas.core.frame.DataFrame'> shape (500000, 14)\n",
            "type: <class 'pandas.core.frame.DataFrame'> shape (500000, 14)\n",
            "type: <class 'pandas.core.frame.DataFrame'> shape (500000, 14)\n",
            "type: <class 'pandas.core.frame.DataFrame'> shape (500000, 14)\n",
            "type: <class 'pandas.core.frame.DataFrame'> shape (500000, 14)\n",
            "type: <class 'pandas.core.frame.DataFrame'> shape (500000, 14)\n",
            "type: <class 'pandas.core.frame.DataFrame'> shape (500000, 14)\n",
            "type: <class 'pandas.core.frame.DataFrame'> shape (500000, 14)\n",
            "type: <class 'pandas.core.frame.DataFrame'> shape (500000, 14)\n",
            "type: <class 'pandas.core.frame.DataFrame'> shape (500000, 14)\n",
            "type: <class 'pandas.core.frame.DataFrame'> shape (500000, 14)\n",
            "type: <class 'pandas.core.frame.DataFrame'> shape (500000, 14)\n",
            "type: <class 'pandas.core.frame.DataFrame'> shape (500000, 14)\n",
            "type: <class 'pandas.core.frame.DataFrame'> shape (500000, 14)\n",
            "type: <class 'pandas.core.frame.DataFrame'> shape (500000, 14)\n",
            "type: <class 'pandas.core.frame.DataFrame'> shape (500000, 14)\n",
            "type: <class 'pandas.core.frame.DataFrame'> shape (500000, 14)\n",
            "type: <class 'pandas.core.frame.DataFrame'> shape (500000, 14)\n",
            "type: <class 'pandas.core.frame.DataFrame'> shape (500000, 14)\n",
            "type: <class 'pandas.core.frame.DataFrame'> shape (500000, 14)\n",
            "type: <class 'pandas.core.frame.DataFrame'> shape (500000, 14)\n",
            "type: <class 'pandas.core.frame.DataFrame'> shape (500000, 14)\n",
            "type: <class 'pandas.core.frame.DataFrame'> shape (500000, 14)\n",
            "type: <class 'pandas.core.frame.DataFrame'> shape (500000, 14)\n",
            "type: <class 'pandas.core.frame.DataFrame'> shape (500000, 14)\n",
            "type: <class 'pandas.core.frame.DataFrame'> shape (500000, 14)\n",
            "type: <class 'pandas.core.frame.DataFrame'> shape (500000, 14)\n",
            "type: <class 'pandas.core.frame.DataFrame'> shape (500000, 14)\n",
            "type: <class 'pandas.core.frame.DataFrame'> shape (500000, 14)\n",
            "type: <class 'pandas.core.frame.DataFrame'> shape (276615, 14)\n"
          ],
          "name": "stdout"
        }
      ]
    }
  ]
}